{
 "cells": [
  {
   "cell_type": "markdown",
   "metadata": {},
   "source": [
    "# json ファイルの基本的な扱い方"
   ]
  },
  {
   "cell_type": "code",
   "execution_count": null,
   "metadata": {},
   "outputs": [],
   "source": [
    "import json\n",
    "from datetime import date\n",
    "from pathlib import Path"
   ]
  },
  {
   "cell_type": "code",
   "execution_count": null,
   "metadata": {},
   "outputs": [],
   "source": [
    "json_path = Path.cwd().parent.joinpath(\"data\").joinpath(\"sample.json\")\n",
    "\n",
    "# data/sample.json を読み込む。\n",
    "# create_json.py で生成したファイルを開く。\n",
    "# Windows では、UTF-8 の BOM が付与されている可能性があるため、encoding=\"utf_8_sig\" を指定する。\n",
    "with json_path.open(\"r\", encoding=\"utf_8_sig\") as f:\n",
    "    # 読み込んだファイルを data 変数に格納する。\n",
    "    data = json.load(f)\n",
    "\n",
    "# data には辞書型のデータが格納されている。\n",
    "data"
   ]
  },
  {
   "cell_type": "markdown",
   "metadata": {},
   "source": [
    "## 辞書型"
   ]
  },
  {
   "cell_type": "code",
   "execution_count": null,
   "metadata": {},
   "outputs": [],
   "source": [
    "# メタデータを参照する。\n",
    "data[\"metadata\"]"
   ]
  },
  {
   "cell_type": "code",
   "execution_count": null,
   "metadata": {},
   "outputs": [],
   "source": [
    "# get メソッドでも同じことができる。\n",
    "# 一つ上の方法よりもほんの僅かに遅いが、エラーが発生しない。\n",
    "# 速度低下は無視できる程度である。\n",
    "# どちらを使うかはケースバイケースで判断する。正直どっちでもいいと思ってる。\n",
    "data.get(\"metadata\")"
   ]
  },
  {
   "cell_type": "code",
   "execution_count": null,
   "metadata": {},
   "outputs": [],
   "source": [
    "# 参照する名前が存在しない場合は KeyError が発生する。\n",
    "data[\"not_exist\"]"
   ]
  },
  {
   "cell_type": "code",
   "execution_count": null,
   "metadata": {},
   "outputs": [],
   "source": [
    "# get メソッドを使うと、キーが存在しない場合に指定した値を返す。\n",
    "# 2 番目の引数は省略可能で、省略した場合は None が返る。\n",
    "data.get(\"not_exist\", \"default\")"
   ]
  },
  {
   "cell_type": "code",
   "execution_count": null,
   "metadata": {},
   "outputs": [],
   "source": [
    "# metadata の中身も同様に参照できる。\n",
    "data[\"metadata\"][\"version\"]"
   ]
  },
  {
   "cell_type": "code",
   "execution_count": null,
   "metadata": {},
   "outputs": [],
   "source": [
    "# get メソッドでももちろん可能。\n",
    "data.get(\"metadata\").get(\"version\")"
   ]
  },
  {
   "cell_type": "markdown",
   "metadata": {},
   "source": [
    "## リスト型"
   ]
  },
  {
   "cell_type": "code",
   "execution_count": null,
   "metadata": {},
   "outputs": [],
   "source": [
    "# ユーザ情報はリスト型で格納されている。\n",
    "data[\"users\"]"
   ]
  },
  {
   "cell_type": "code",
   "execution_count": null,
   "metadata": {},
   "outputs": [],
   "source": [
    "# 1 つ目を参照する。\n",
    "# 番号が 0 から始まることに注意。\n",
    "data[\"users\"][0]"
   ]
  },
  {
   "cell_type": "code",
   "execution_count": null,
   "metadata": {},
   "outputs": [],
   "source": [
    "# 最後から 1 つ目を参照する。\n",
    "# マイナス n で最後から n 番目を参照できる。\n",
    "data[\"users\"][-1]"
   ]
  },
  {
   "cell_type": "code",
   "execution_count": null,
   "metadata": {},
   "outputs": [],
   "source": [
    "# 範囲外のインデックスを指定すると IndexError が発生する。\n",
    "data[\"users\"][100_000_000]"
   ]
  },
  {
   "cell_type": "code",
   "execution_count": null,
   "metadata": {},
   "outputs": [],
   "source": [
    "# いちいち data[\"users\"] と書くのが面倒な場合は、変数に格納しておくと便利。\n",
    "users = data[\"users\"]\n",
    "users[0]"
   ]
  },
  {
   "cell_type": "code",
   "execution_count": null,
   "metadata": {},
   "outputs": [],
   "source": [
    "# リストの中身も辞書型なので、辞書型と同じように参照できる。\n",
    "users[0][\"name\"], users[0].get(\"birthday\"), users[0].get(\"address\")"
   ]
  },
  {
   "cell_type": "code",
   "execution_count": null,
   "metadata": {},
   "outputs": [],
   "source": [
    "# len 関数でリストの長さを取得できる。\n",
    "len(users)"
   ]
  },
  {
   "cell_type": "code",
   "execution_count": null,
   "metadata": {},
   "outputs": [],
   "source": [
    "# 名前だけを取り出したいときは、リスト内包表記を使う。\n",
    "# リスト内包表記はリストの中身を一括で処理するための構文。\n",
    "# この場合、users の要素を一つずつ user に格納し、\n",
    "# user[\"name\"] を取り出したものだけをリストに格納する。\n",
    "names = [user[\"name\"] for user in users]\n",
    "names"
   ]
  },
  {
   "cell_type": "code",
   "execution_count": null,
   "metadata": {},
   "outputs": [],
   "source": [
    "# リスト内包表記は for 文を使った書き方と同じ意味を持つ。\n",
    "# 筆者はリスト内包が好き。\n",
    "# Python で append するのは遅いので、リスト内包表記を使うと速いのでおすすめ。\n",
    "names = []\n",
    "for user in users:\n",
    "    names.append(user[\"name\"])\n",
    "names"
   ]
  },
  {
   "cell_type": "markdown",
   "metadata": {},
   "source": [
    "## フィルタリング"
   ]
  },
  {
   "cell_type": "code",
   "execution_count": null,
   "metadata": {},
   "outputs": [],
   "source": [
    "# フィルタリングの準備として、誕生日を Python で扱いやすい date 型に変換する。\n",
    "# 辞書型もリスト型も、中身を = で更新することができる。\n",
    "for user in users:\n",
    "    user[\"birthday\"] = date.fromisoformat(user[\"birthday\"])\n",
    "\n",
    "# birthday の型が変わっていることを確認する。\n",
    "users[0]"
   ]
  },
  {
   "cell_type": "code",
   "execution_count": null,
   "metadata": {},
   "outputs": [],
   "source": [
    "# リスト内包表記は if 文を使ったフィルタリングもできる。\n",
    "# この場合、user[\"birthday\"] が 2000 年以降のユーザだけを取り出す。\n",
    "selected_users = [user for user in users if user.get(\"birthday\") >= date(2000, 1, 1)]\n",
    "selected_users"
   ]
  },
  {
   "cell_type": "code",
   "execution_count": null,
   "metadata": {},
   "outputs": [],
   "source": [
    "# for 文を使った書き方と同じ意味を持つ。\n",
    "selected_users = []\n",
    "for user in users:\n",
    "    if user.get(\"birthday\") >= date(2000, 1, 1):\n",
    "        selected_users.append(user)\n",
    "selected_users"
   ]
  },
  {
   "cell_type": "markdown",
   "metadata": {},
   "source": [
    "## json ファイルの書き込み"
   ]
  },
  {
   "cell_type": "code",
   "execution_count": null,
   "metadata": {},
   "outputs": [],
   "source": [
    "# json ファイルに書き込む。\n",
    "# date 型は json モジュールでは扱えないため、元に戻す。\n",
    "for user in selected_users:\n",
    "    user[\"birthday\"] = user[\"birthday\"].isoformat()\n",
    "# 読み込んだファイルと同じディレクトリの output.json に書き込む。\n",
    "output_path = json_path.parent.joinpath(\"output.json\")\n",
    "with output_path.open(\"w\", encoding=\"utf_8\") as f:\n",
    "    # この場合、出力ファイルは整形されていない。\n",
    "    json.dump(selected_users, f)\n",
    "# 整形したい場合は、indent 引数を指定する。\n",
    "output_path = json_path.parent.joinpath(\"output_pretty.json\")\n",
    "with output_path.open(\"w\", encoding=\"utf_8\") as f:\n",
    "    json.dump(selected_users, f, indent=4)\n",
    "# 仮に、日本語が含まれている場合は、ensure_ascii=False を指定すると見やすくなる。\n",
    "output_path = json_path.parent.joinpath(\"output_japanese.json\")\n",
    "with output_path.open(\"w\", encoding=\"utf_8\") as f:\n",
    "    json.dump(selected_users, f, indent=4, ensure_ascii=False)"
   ]
  },
  {
   "cell_type": "markdown",
   "metadata": {},
   "source": [
    "## 時間計測\n",
    "\n",
    "```\n",
    "CPU: AMD Ryzen 9 5900X\n",
    "Python: 3.13.0\n",
    "OS: Windows 11\n",
    "SSD: 知らん\n",
    "```"
   ]
  },
  {
   "cell_type": "code",
   "execution_count": null,
   "metadata": {},
   "outputs": [],
   "source": [
    "%%timeit\n",
    "# 読み込みにかかる時間を計測する。\n",
    "\n",
    "with json_path.open(\"r\", encoding=\"utf_8_sig\") as f:\n",
    "    # 読み込んだファイルを data 変数に格納する。\n",
    "    data = json.load(f)\n",
    "# birthday の型を変換する。\n",
    "for user in data[\"users\"]:\n",
    "    user[\"birthday\"] = date.fromisoformat(user[\"birthday\"])"
   ]
  },
  {
   "cell_type": "code",
   "execution_count": null,
   "metadata": {},
   "outputs": [],
   "source": [
    "with json_path.open(\"r\", encoding=\"utf_8_sig\") as f:\n",
    "    # 読み込んだファイルを data 変数に格納する。\n",
    "    data = json.load(f)\n",
    "# birthday の型を変換する。\n",
    "for user in data[\"users\"]:\n",
    "    user[\"birthday\"] = date.fromisoformat(user[\"birthday\"])"
   ]
  },
  {
   "cell_type": "code",
   "execution_count": null,
   "metadata": {},
   "outputs": [],
   "source": [
    "%%timeit\n",
    "# birthday でフィルタリングする。\n",
    "selected_users = [user for user in data[\"users\"] if user.get(\"birthday\") < date(2000, 1, 1)]"
   ]
  }
 ],
 "metadata": {
  "kernelspec": {
   "display_name": ".venv",
   "language": "python",
   "name": "python3"
  },
  "language_info": {
   "codemirror_mode": {
    "name": "ipython",
    "version": 3
   },
   "file_extension": ".py",
   "mimetype": "text/x-python",
   "name": "python",
   "nbconvert_exporter": "python",
   "pygments_lexer": "ipython3",
   "version": "3.13.0"
  }
 },
 "nbformat": 4,
 "nbformat_minor": 2
}
