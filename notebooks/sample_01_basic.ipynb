{
 "cells": [
  {
   "cell_type": "markdown",
   "metadata": {},
   "source": [
    "# json ファイルの基本的な扱い方"
   ]
  },
  {
   "cell_type": "code",
   "execution_count": 1,
   "metadata": {},
   "outputs": [],
   "source": [
    "import json\n",
    "from datetime import date\n",
    "from pathlib import Path"
   ]
  },
  {
   "cell_type": "code",
   "execution_count": null,
   "metadata": {},
   "outputs": [],
   "source": [
    "json_path = Path.cwd().parent.joinpath(\"data\").joinpath(\"sample.json\")\n",
    "\n",
    "# data/sample.json を読み込む。\n",
    "# create_json.py で生成したファイルを開く。\n",
    "# Windows では、UTF-8 の BOM が付与されている可能性があるため、encoding=\"utf_8_sig\" を指定する。\n",
    "with json_path.open(\"r\", encoding=\"utf_8_sig\") as f:\n",
    "    # 読み込んだファイルを data 変数に格納する。\n",
    "    data = json.load(f)"
   ]
  },
  {
   "cell_type": "markdown",
   "metadata": {},
   "source": [
    "## 辞書型"
   ]
  },
  {
   "cell_type": "code",
   "execution_count": 3,
   "metadata": {},
   "outputs": [
    {
     "data": {
      "text/plain": [
       "{'version': 1.0, 'author': 'nao2c4'}"
      ]
     },
     "execution_count": 3,
     "metadata": {},
     "output_type": "execute_result"
    }
   ],
   "source": [
    "# メタデータを参照する。\n",
    "data[\"metadata\"]"
   ]
  },
  {
   "cell_type": "code",
   "execution_count": 4,
   "metadata": {},
   "outputs": [
    {
     "data": {
      "text/plain": [
       "{'version': 1.0, 'author': 'nao2c4'}"
      ]
     },
     "execution_count": 4,
     "metadata": {},
     "output_type": "execute_result"
    }
   ],
   "source": [
    "# get メソッドでも同じことができる。\n",
    "# 一つ上の方法よりもほんの僅かに遅いが、エラーが発生しない。\n",
    "# 速度低下は無視できる程度である。\n",
    "# どちらを使うかはケースバイケースで判断する。正直どっちでもいいと思ってる。\n",
    "data.get(\"metadata\")"
   ]
  },
  {
   "cell_type": "code",
   "execution_count": 5,
   "metadata": {},
   "outputs": [
    {
     "ename": "KeyError",
     "evalue": "'not_exist'",
     "output_type": "error",
     "traceback": [
      "\u001b[1;31m---------------------------------------------------------------------------\u001b[0m",
      "\u001b[1;31mKeyError\u001b[0m                                  Traceback (most recent call last)",
      "Cell \u001b[1;32mIn[5], line 2\u001b[0m\n\u001b[0;32m      1\u001b[0m \u001b[38;5;66;03m# 参照する名前が存在しない場合は KeyError が発生する。\u001b[39;00m\n\u001b[1;32m----> 2\u001b[0m \u001b[43mdata\u001b[49m\u001b[43m[\u001b[49m\u001b[38;5;124;43m\"\u001b[39;49m\u001b[38;5;124;43mnot_exist\u001b[39;49m\u001b[38;5;124;43m\"\u001b[39;49m\u001b[43m]\u001b[49m\n",
      "\u001b[1;31mKeyError\u001b[0m: 'not_exist'"
     ]
    }
   ],
   "source": [
    "# 参照する名前が存在しない場合は KeyError が発生する。\n",
    "data[\"not_exist\"]"
   ]
  },
  {
   "cell_type": "code",
   "execution_count": 6,
   "metadata": {},
   "outputs": [
    {
     "data": {
      "text/plain": [
       "'default'"
      ]
     },
     "execution_count": 6,
     "metadata": {},
     "output_type": "execute_result"
    }
   ],
   "source": [
    "# get メソッドを使うと、キーが存在しない場合に指定した値を返す。\n",
    "# 2 番目の引数は省略可能で、省略した場合は None が返る。\n",
    "data.get(\"not_exist\", \"default\")"
   ]
  },
  {
   "cell_type": "code",
   "execution_count": 7,
   "metadata": {},
   "outputs": [
    {
     "data": {
      "text/plain": [
       "1.0"
      ]
     },
     "execution_count": 7,
     "metadata": {},
     "output_type": "execute_result"
    }
   ],
   "source": [
    "# metadata の中身も同様に参照できる。\n",
    "data[\"metadata\"][\"version\"]"
   ]
  },
  {
   "cell_type": "code",
   "execution_count": 8,
   "metadata": {},
   "outputs": [
    {
     "data": {
      "text/plain": [
       "1.0"
      ]
     },
     "execution_count": 8,
     "metadata": {},
     "output_type": "execute_result"
    }
   ],
   "source": [
    "# get メソッドでももちろん可能。\n",
    "data.get(\"metadata\").get(\"version\")"
   ]
  },
  {
   "cell_type": "markdown",
   "metadata": {},
   "source": [
    "## リスト型"
   ]
  },
  {
   "cell_type": "code",
   "execution_count": 9,
   "metadata": {},
   "outputs": [
    {
     "data": {
      "text/plain": [
       "[{'name': 'lqhkirijwf', 'birthday': '1988-11-27'},\n",
       " {'name': 'apbgjmiagn', 'birthday': '1974-11-20'},\n",
       " {'name': 'xxuiavoybm', 'birthday': '2005-09-30'},\n",
       " {'name': 'oqtsaakclt', 'birthday': '1905-08-17'},\n",
       " {'name': 'jrejrrcnbg', 'birthday': '1919-03-26'},\n",
       " {'name': 'kxfpuysezo', 'birthday': '1993-09-08'},\n",
       " {'name': 'aqwzoalvdn', 'birthday': '1936-12-21'},\n",
       " {'name': 'etchmgxbno', 'birthday': '1994-08-25'},\n",
       " {'name': 'qtdrmclyvc', 'birthday': '2003-01-23'},\n",
       " {'name': 'lutrhkkbze', 'birthday': '1967-09-09'}]"
      ]
     },
     "execution_count": 9,
     "metadata": {},
     "output_type": "execute_result"
    }
   ],
   "source": [
    "# ユーザ情報はリスト型で格納されている。\n",
    "# 長いので、一部を表示する。\n",
    "data[\"users\"][:10]"
   ]
  },
  {
   "cell_type": "code",
   "execution_count": 10,
   "metadata": {},
   "outputs": [
    {
     "data": {
      "text/plain": [
       "{'name': 'lqhkirijwf', 'birthday': '1988-11-27'}"
      ]
     },
     "execution_count": 10,
     "metadata": {},
     "output_type": "execute_result"
    }
   ],
   "source": [
    "# 1 つ目を参照する。\n",
    "# 番号が 0 から始まることに注意。\n",
    "data[\"users\"][0]"
   ]
  },
  {
   "cell_type": "code",
   "execution_count": 11,
   "metadata": {},
   "outputs": [
    {
     "data": {
      "text/plain": [
       "{'name': 'sjcsxaacoz', 'birthday': '1942-05-25'}"
      ]
     },
     "execution_count": 11,
     "metadata": {},
     "output_type": "execute_result"
    }
   ],
   "source": [
    "# 最後から 1 つ目を参照する。\n",
    "# マイナス n で最後から n 番目を参照できる。\n",
    "data[\"users\"][-1]"
   ]
  },
  {
   "cell_type": "code",
   "execution_count": 12,
   "metadata": {},
   "outputs": [
    {
     "ename": "IndexError",
     "evalue": "list index out of range",
     "output_type": "error",
     "traceback": [
      "\u001b[1;31m---------------------------------------------------------------------------\u001b[0m",
      "\u001b[1;31mIndexError\u001b[0m                                Traceback (most recent call last)",
      "Cell \u001b[1;32mIn[12], line 2\u001b[0m\n\u001b[0;32m      1\u001b[0m \u001b[38;5;66;03m# 範囲外のインデックスを指定すると IndexError が発生する。\u001b[39;00m\n\u001b[1;32m----> 2\u001b[0m \u001b[43mdata\u001b[49m\u001b[43m[\u001b[49m\u001b[38;5;124;43m\"\u001b[39;49m\u001b[38;5;124;43musers\u001b[39;49m\u001b[38;5;124;43m\"\u001b[39;49m\u001b[43m]\u001b[49m\u001b[43m[\u001b[49m\u001b[38;5;241;43m100_000_000\u001b[39;49m\u001b[43m]\u001b[49m\n",
      "\u001b[1;31mIndexError\u001b[0m: list index out of range"
     ]
    }
   ],
   "source": [
    "# 範囲外のインデックスを指定すると IndexError が発生する。\n",
    "data[\"users\"][100_000_000]"
   ]
  },
  {
   "cell_type": "code",
   "execution_count": 13,
   "metadata": {},
   "outputs": [
    {
     "data": {
      "text/plain": [
       "{'name': 'lqhkirijwf', 'birthday': '1988-11-27'}"
      ]
     },
     "execution_count": 13,
     "metadata": {},
     "output_type": "execute_result"
    }
   ],
   "source": [
    "# いちいち data[\"users\"] と書くのが面倒な場合は、変数に格納しておくと便利。\n",
    "users = data[\"users\"]\n",
    "users[0]"
   ]
  },
  {
   "cell_type": "code",
   "execution_count": 14,
   "metadata": {},
   "outputs": [
    {
     "data": {
      "text/plain": [
       "('lqhkirijwf', '1988-11-27', None)"
      ]
     },
     "execution_count": 14,
     "metadata": {},
     "output_type": "execute_result"
    }
   ],
   "source": [
    "# リストの中身も辞書型なので、辞書型と同じように参照できる。\n",
    "users[0][\"name\"], users[0].get(\"birthday\"), users[0].get(\"address\")"
   ]
  },
  {
   "cell_type": "code",
   "execution_count": 15,
   "metadata": {},
   "outputs": [
    {
     "data": {
      "text/plain": [
       "20000"
      ]
     },
     "execution_count": 15,
     "metadata": {},
     "output_type": "execute_result"
    }
   ],
   "source": [
    "# len 関数でリストの長さを取得できる。\n",
    "len(users)"
   ]
  },
  {
   "cell_type": "code",
   "execution_count": 16,
   "metadata": {},
   "outputs": [
    {
     "data": {
      "text/plain": [
       "['lqhkirijwf',\n",
       " 'apbgjmiagn',\n",
       " 'xxuiavoybm',\n",
       " 'oqtsaakclt',\n",
       " 'jrejrrcnbg',\n",
       " 'kxfpuysezo',\n",
       " 'aqwzoalvdn',\n",
       " 'etchmgxbno',\n",
       " 'qtdrmclyvc',\n",
       " 'lutrhkkbze']"
      ]
     },
     "execution_count": 16,
     "metadata": {},
     "output_type": "execute_result"
    }
   ],
   "source": [
    "# 名前だけを取り出したいときは、リスト内包表記を使う。\n",
    "# リスト内包表記はリストの中身を一括で処理するための構文。\n",
    "# この場合、users の要素を一つずつ user に格納し、\n",
    "# user[\"name\"] を取り出したものだけをリストに格納する。\n",
    "names = [user[\"name\"] for user in users]\n",
    "# 一部を表示する。\n",
    "names[:10]"
   ]
  },
  {
   "cell_type": "code",
   "execution_count": 17,
   "metadata": {},
   "outputs": [
    {
     "data": {
      "text/plain": [
       "['lqhkirijwf',\n",
       " 'apbgjmiagn',\n",
       " 'xxuiavoybm',\n",
       " 'oqtsaakclt',\n",
       " 'jrejrrcnbg',\n",
       " 'kxfpuysezo',\n",
       " 'aqwzoalvdn',\n",
       " 'etchmgxbno',\n",
       " 'qtdrmclyvc',\n",
       " 'lutrhkkbze']"
      ]
     },
     "execution_count": 17,
     "metadata": {},
     "output_type": "execute_result"
    }
   ],
   "source": [
    "# リスト内包表記は for 文を使った書き方と同じ意味を持つ。\n",
    "# 筆者はリスト内包が好き。\n",
    "# Python で append するのは遅いので、リスト内包表記を使うと速いのでおすすめ。\n",
    "names = []\n",
    "for user in users:\n",
    "    names.append(user[\"name\"])\n",
    "names[:10]"
   ]
  },
  {
   "cell_type": "markdown",
   "metadata": {},
   "source": [
    "## フィルタリング"
   ]
  },
  {
   "cell_type": "code",
   "execution_count": 18,
   "metadata": {},
   "outputs": [
    {
     "data": {
      "text/plain": [
       "{'name': 'lqhkirijwf', 'birthday': datetime.date(1988, 11, 27)}"
      ]
     },
     "execution_count": 18,
     "metadata": {},
     "output_type": "execute_result"
    }
   ],
   "source": [
    "# フィルタリングの準備として、誕生日を Python で扱いやすい date 型に変換する。\n",
    "# 辞書型もリスト型も、中身を = で更新することができる。\n",
    "for user in users:\n",
    "    user[\"birthday\"] = date.fromisoformat(user[\"birthday\"])\n",
    "\n",
    "# birthday の型が変わっていることを確認する。\n",
    "users[0]"
   ]
  },
  {
   "cell_type": "code",
   "execution_count": 19,
   "metadata": {},
   "outputs": [
    {
     "data": {
      "text/plain": [
       "[{'name': 'xxuiavoybm', 'birthday': datetime.date(2005, 9, 30)},\n",
       " {'name': 'qtdrmclyvc', 'birthday': datetime.date(2003, 1, 23)},\n",
       " {'name': 'idvnauiwot', 'birthday': datetime.date(2002, 12, 14)},\n",
       " {'name': 'bdhivhlugg', 'birthday': datetime.date(2009, 4, 10)},\n",
       " {'name': 'elgouvuaoq', 'birthday': datetime.date(2009, 4, 14)},\n",
       " {'name': 'xqkzkbunrw', 'birthday': datetime.date(2006, 6, 11)},\n",
       " {'name': 'buvauzjlcy', 'birthday': datetime.date(2008, 5, 15)},\n",
       " {'name': 'netkgnetaf', 'birthday': datetime.date(2007, 1, 17)},\n",
       " {'name': 'kqlplrjptx', 'birthday': datetime.date(2000, 12, 23)},\n",
       " {'name': 'upfmcgulri', 'birthday': datetime.date(2003, 12, 5)}]"
      ]
     },
     "execution_count": 19,
     "metadata": {},
     "output_type": "execute_result"
    }
   ],
   "source": [
    "# リスト内包表記は if 文を使ったフィルタリングもできる。\n",
    "# この場合、user[\"birthday\"] が 2000 年以降のユーザだけを取り出す。\n",
    "selected_users = [user for user in users if user.get(\"birthday\") >= date(2000, 1, 1)]\n",
    "# 一部を表示する。\n",
    "selected_users[:10]"
   ]
  },
  {
   "cell_type": "code",
   "execution_count": 20,
   "metadata": {},
   "outputs": [
    {
     "data": {
      "text/plain": [
       "[{'name': 'xxuiavoybm', 'birthday': datetime.date(2005, 9, 30)},\n",
       " {'name': 'qtdrmclyvc', 'birthday': datetime.date(2003, 1, 23)},\n",
       " {'name': 'idvnauiwot', 'birthday': datetime.date(2002, 12, 14)},\n",
       " {'name': 'bdhivhlugg', 'birthday': datetime.date(2009, 4, 10)},\n",
       " {'name': 'elgouvuaoq', 'birthday': datetime.date(2009, 4, 14)},\n",
       " {'name': 'xqkzkbunrw', 'birthday': datetime.date(2006, 6, 11)},\n",
       " {'name': 'buvauzjlcy', 'birthday': datetime.date(2008, 5, 15)},\n",
       " {'name': 'netkgnetaf', 'birthday': datetime.date(2007, 1, 17)},\n",
       " {'name': 'kqlplrjptx', 'birthday': datetime.date(2000, 12, 23)},\n",
       " {'name': 'upfmcgulri', 'birthday': datetime.date(2003, 12, 5)}]"
      ]
     },
     "execution_count": 20,
     "metadata": {},
     "output_type": "execute_result"
    }
   ],
   "source": [
    "# for 文を使った書き方と同じ意味を持つ。\n",
    "selected_users = []\n",
    "for user in users:\n",
    "    if user.get(\"birthday\") >= date(2000, 1, 1):\n",
    "        selected_users.append(user)\n",
    "selected_users[:10]"
   ]
  },
  {
   "cell_type": "markdown",
   "metadata": {},
   "source": [
    "## json ファイルの書き込み"
   ]
  },
  {
   "cell_type": "code",
   "execution_count": 21,
   "metadata": {},
   "outputs": [],
   "source": [
    "# json ファイルに書き込む。\n",
    "# date 型は json モジュールでは扱えないため、元に戻す。\n",
    "for user in selected_users:\n",
    "    user[\"birthday\"] = user[\"birthday\"].isoformat()\n",
    "# 読み込んだファイルと同じディレクトリの output.json に書き込む。\n",
    "output_path = json_path.parent.joinpath(\"output.json\")\n",
    "with output_path.open(\"w\", encoding=\"utf_8\") as f:\n",
    "    # この場合、出力ファイルは整形されていない。\n",
    "    json.dump(selected_users, f)\n",
    "# 整形したい場合は、indent 引数を指定する。\n",
    "output_path = json_path.parent.joinpath(\"output_pretty.json\")\n",
    "with output_path.open(\"w\", encoding=\"utf_8\") as f:\n",
    "    json.dump(selected_users, f, indent=4)\n",
    "# 仮に、日本語が含まれている場合は、ensure_ascii=False を指定すると見やすくなる。\n",
    "output_path = json_path.parent.joinpath(\"output_japanese.json\")\n",
    "with output_path.open(\"w\", encoding=\"utf_8\") as f:\n",
    "    json.dump(selected_users, f, indent=4, ensure_ascii=False)"
   ]
  },
  {
   "cell_type": "markdown",
   "metadata": {},
   "source": [
    "## 時間計測\n",
    "\n",
    "```\n",
    "CPU: AMD Ryzen 9 5900X\n",
    "Python: 3.13.0\n",
    "OS: Windows 11\n",
    "SSD: 知らん\n",
    "```"
   ]
  },
  {
   "cell_type": "code",
   "execution_count": 22,
   "metadata": {},
   "outputs": [
    {
     "name": "stdout",
     "output_type": "stream",
     "text": [
      "13.3 ms ± 159 μs per loop (mean ± std. dev. of 7 runs, 100 loops each)\n"
     ]
    }
   ],
   "source": [
    "%%timeit\n",
    "# 読み込みにかかる時間を計測する。\n",
    "# このくらいのサイズ・環境であれば、数十 ms 程度。\n",
    "\n",
    "with json_path.open(\"r\", encoding=\"utf_8_sig\") as f:\n",
    "    # 読み込んだファイルを data 変数に格納する。\n",
    "    data = json.load(f)\n",
    "# birthday の型を変換する。\n",
    "for user in data[\"users\"]:\n",
    "    user[\"birthday\"] = date.fromisoformat(user[\"birthday\"])"
   ]
  },
  {
   "cell_type": "code",
   "execution_count": 23,
   "metadata": {},
   "outputs": [],
   "source": [
    "with json_path.open(\"r\", encoding=\"utf_8_sig\") as f:\n",
    "    # 読み込んだファイルを data 変数に格納する。\n",
    "    data = json.load(f)\n",
    "# birthday の型を変換する。\n",
    "for user in data[\"users\"]:\n",
    "    user[\"birthday\"] = date.fromisoformat(user[\"birthday\"])"
   ]
  },
  {
   "cell_type": "code",
   "execution_count": 24,
   "metadata": {},
   "outputs": [
    {
     "name": "stdout",
     "output_type": "stream",
     "text": [
      "2.81 ms ± 39.2 μs per loop (mean ± std. dev. of 7 runs, 100 loops each)\n"
     ]
    }
   ],
   "source": [
    "%%timeit\n",
    "# birthday でフィルタリングの時間を計測する。\n",
    "# このくらいのサイズ・環境であれば、数 ms 程度。\n",
    "selected_users = [user for user in data[\"users\"] if user.get(\"birthday\") < date(2000, 1, 1)]"
   ]
  }
 ],
 "metadata": {
  "kernelspec": {
   "display_name": ".venv",
   "language": "python",
   "name": "python3"
  },
  "language_info": {
   "codemirror_mode": {
    "name": "ipython",
    "version": 3
   },
   "file_extension": ".py",
   "mimetype": "text/x-python",
   "name": "python",
   "nbconvert_exporter": "python",
   "pygments_lexer": "ipython3",
   "version": "3.13.0"
  }
 },
 "nbformat": 4,
 "nbformat_minor": 2
}
