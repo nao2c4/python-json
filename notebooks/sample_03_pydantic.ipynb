{
 "cells": [
  {
   "cell_type": "markdown",
   "metadata": {},
   "source": [
    "# Pydantic を使ってみる"
   ]
  },
  {
   "cell_type": "code",
   "execution_count": 1,
   "metadata": {},
   "outputs": [],
   "source": [
    "from datetime import date\n",
    "from pathlib import Path\n",
    "\n",
    "# デフォルトでは Pydantic はインストールされていない。\n",
    "# pip を使ってインストールする必要がある。\n",
    "# cf. https://docs.pydantic.dev/latest/install/\n",
    "from pydantic import BaseModel"
   ]
  },
  {
   "cell_type": "markdown",
   "metadata": {},
   "source": [
    "## ファイルの情報を定義"
   ]
  },
  {
   "cell_type": "code",
   "execution_count": 2,
   "metadata": {},
   "outputs": [],
   "source": [
    "class User(BaseModel):\n",
    "    \"\"\"ユーザ情報。\n",
    "\n",
    "    Attributes:\n",
    "        name (str): ユーザ名。\n",
    "        birthday (date): 誕生日。\n",
    "    \"\"\"\n",
    "\n",
    "    name: str\n",
    "    birthday: date\n",
    "\n",
    "\n",
    "class Metadata(BaseModel):\n",
    "    \"\"\"メタデータ。\n",
    "\n",
    "    Attributes:\n",
    "        auther (str): 作者。\n",
    "        version (str): バージョン。\n",
    "    \"\"\"\n",
    "\n",
    "    author: str\n",
    "    version: str\n",
    "\n",
    "\n",
    "class UserDatabase(BaseModel):\n",
    "    \"\"\"ユーザ情報のデータベース。\n",
    "\n",
    "    Attributes:\n",
    "        metadata (Metadata): メタデータ。\n",
    "        users (list[User]): ユーザ情報の辞書。キーはユーザ名。\n",
    "    \"\"\"\n",
    "\n",
    "    metadata: Metadata\n",
    "    users: list[User]"
   ]
  },
  {
   "cell_type": "markdown",
   "metadata": {},
   "source": [
    "## 使用例"
   ]
  },
  {
   "cell_type": "code",
   "execution_count": 3,
   "metadata": {},
   "outputs": [],
   "source": [
    "json_path = Path.cwd().parent.joinpath(\"data\").joinpath(\"sample.json\")\n",
    "\n",
    "# data/sample.json を読み込む。\n",
    "user_database = UserDatabase.model_validate_json(json_path.read_text())"
   ]
  },
  {
   "cell_type": "code",
   "execution_count": 4,
   "metadata": {},
   "outputs": [
    {
     "data": {
      "text/plain": [
       "Metadata(author='nao2c4', version='1.0.0')"
      ]
     },
     "execution_count": 4,
     "metadata": {},
     "output_type": "execute_result"
    }
   ],
   "source": [
    "# メタデータを表示する。\n",
    "user_database.metadata"
   ]
  },
  {
   "cell_type": "code",
   "execution_count": 5,
   "metadata": {},
   "outputs": [
    {
     "data": {
      "text/plain": [
       "[User(name='lqhkirijwf', birthday=datetime.date(1988, 11, 27)),\n",
       " User(name='apbgjmiagn', birthday=datetime.date(1974, 11, 20)),\n",
       " User(name='xxuiavoybm', birthday=datetime.date(2005, 9, 30)),\n",
       " User(name='oqtsaakclt', birthday=datetime.date(1905, 8, 17)),\n",
       " User(name='jrejrrcnbg', birthday=datetime.date(1919, 3, 26)),\n",
       " User(name='kxfpuysezo', birthday=datetime.date(1993, 9, 8)),\n",
       " User(name='aqwzoalvdn', birthday=datetime.date(1936, 12, 21)),\n",
       " User(name='etchmgxbno', birthday=datetime.date(1994, 8, 25)),\n",
       " User(name='qtdrmclyvc', birthday=datetime.date(2003, 1, 23)),\n",
       " User(name='lutrhkkbze', birthday=datetime.date(1967, 9, 9))]"
      ]
     },
     "execution_count": 5,
     "metadata": {},
     "output_type": "execute_result"
    }
   ],
   "source": [
    "# ユーザ情報を表示する。\n",
    "# 最初の 10 件のみ表示する。\n",
    "user_database.users[:10]"
   ]
  },
  {
   "cell_type": "code",
   "execution_count": 6,
   "metadata": {},
   "outputs": [
    {
     "data": {
      "text/plain": [
       "[User(name='xxuiavoybm', birthday=datetime.date(2005, 9, 30)),\n",
       " User(name='qtdrmclyvc', birthday=datetime.date(2003, 1, 23)),\n",
       " User(name='idvnauiwot', birthday=datetime.date(2002, 12, 14)),\n",
       " User(name='bdhivhlugg', birthday=datetime.date(2009, 4, 10)),\n",
       " User(name='elgouvuaoq', birthday=datetime.date(2009, 4, 14)),\n",
       " User(name='xqkzkbunrw', birthday=datetime.date(2006, 6, 11)),\n",
       " User(name='buvauzjlcy', birthday=datetime.date(2008, 5, 15)),\n",
       " User(name='netkgnetaf', birthday=datetime.date(2007, 1, 17)),\n",
       " User(name='kqlplrjptx', birthday=datetime.date(2000, 12, 23)),\n",
       " User(name='upfmcgulri', birthday=datetime.date(2003, 12, 5))]"
      ]
     },
     "execution_count": 6,
     "metadata": {},
     "output_type": "execute_result"
    }
   ],
   "source": [
    "# 誕生日でフィルタリングする。\n",
    "selected_users = [user for user in user_database.users if user.birthday >= date(2000, 1, 1)]\n",
    "selected_users[:10]"
   ]
  },
  {
   "cell_type": "code",
   "execution_count": 7,
   "metadata": {},
   "outputs": [
    {
     "data": {
      "text/plain": [
       "1840103"
      ]
     },
     "execution_count": 7,
     "metadata": {},
     "output_type": "execute_result"
    }
   ],
   "source": [
    "# ユーザ情報を data/output_pydantic.json に保存する。\n",
    "output_path = json_path.parent.joinpath(\"output_pydantic.json\")\n",
    "output_path.write_text(user_database.model_dump_json(indent=4))"
   ]
  },
  {
   "cell_type": "markdown",
   "metadata": {},
   "source": [
    "## 時間計測"
   ]
  },
  {
   "cell_type": "code",
   "execution_count": 8,
   "metadata": {},
   "outputs": [
    {
     "name": "stdout",
     "output_type": "stream",
     "text": [
      "31 ms ± 946 μs per loop (mean ± std. dev. of 7 runs, 10 loops each)\n"
     ]
    }
   ],
   "source": [
    "%%timeit\n",
    "# 読み込み時間を計測する。\n",
    "# Pydantic はデータの検証を行うため、読み込みに時間がかかる。\n",
    "# 言い換えれば、変なデータが入っているとエラーで止まるので、安全性が高い。\n",
    "# この環境では、使わない場合と比べて倍程度の時間がかかった。\n",
    "user_database = UserDatabase.model_validate_json(json_path.read_text())"
   ]
  },
  {
   "cell_type": "code",
   "execution_count": 9,
   "metadata": {},
   "outputs": [
    {
     "name": "stdout",
     "output_type": "stream",
     "text": [
      "2.51 ms ± 36.5 μs per loop (mean ± std. dev. of 7 runs, 100 loops each)\n"
     ]
    }
   ],
   "source": [
    "%%timeit\n",
    "# フィルタリングの時間を計測する。\n",
    "# 読み込み以外は時間は変わらなかった。\n",
    "selected_users = [user for user in user_database.users if user.birthday < date(2000, 1, 1)]"
   ]
  }
 ],
 "metadata": {
  "kernelspec": {
   "display_name": ".venv",
   "language": "python",
   "name": "python3"
  },
  "language_info": {
   "codemirror_mode": {
    "name": "ipython",
    "version": 3
   },
   "file_extension": ".py",
   "mimetype": "text/x-python",
   "name": "python",
   "nbconvert_exporter": "python",
   "pygments_lexer": "ipython3",
   "version": "3.13.0"
  }
 },
 "nbformat": 4,
 "nbformat_minor": 2
}
